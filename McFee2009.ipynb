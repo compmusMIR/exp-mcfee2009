{
 "cells": [
  {
   "cell_type": "markdown",
   "metadata": {},
   "source": [
    "# Experimento"
   ]
  },
  {
   "cell_type": "markdown",
   "metadata": {},
   "source": [
    "## Importação de dados de artistas"
   ]
  },
  {
   "cell_type": "markdown",
   "metadata": {},
   "source": [
    "### Dataset aset400\n",
    "Eles utilizaram a versão ** filtrada ** do dataset."
   ]
  },
  {
   "cell_type": "code",
   "execution_count": 1,
   "metadata": {
    "collapsed": false
   },
   "outputs": [
    {
     "name": "stdout",
     "output_type": "stream",
     "text": [
      "Total imported: 401 artists\n"
     ]
    }
   ],
   "source": [
    "# loading the artist ids\n",
    "with open('aset400.3-canon-musicseer.ids', 'r') as f:\n",
    "    artist_names = {}\n",
    "    for i in f.read().split(\"\\n\"):\n",
    "        name, id = i.partition(\" \")[::2]\n",
    "        artist_names[id] = name\n",
    "    print(\"Total imported: %i artists\" % len(artist_names.keys()))"
   ]
  },
  {
   "cell_type": "code",
   "execution_count": 2,
   "metadata": {
    "collapsed": false,
    "scrolled": false
   },
   "outputs": [
    {
     "name": "stdout",
     "output_type": "stream",
     "text": [
      "Imported: 16243 triplets\n"
     ]
    }
   ],
   "source": [
    "# loading filtered triplets\n",
    "keys = artist_names.keys()\n",
    "with open('filtered-survey.txt', 'r') as f:\n",
    "    artist_triplets = []\n",
    "    for i in f.read().split(\"\\n\"):\n",
    "        trip = i.split(\" \")[-3:]\n",
    "        if (trip[0] != ''):\n",
    "            if (trip[0] in keys) & (trip[1] in keys) & (trip[2] in keys):\n",
    "                 artist_triplets.append(trip)\n",
    "                \n",
    "    print(\"Imported: %i triplets\" % len(artist_triplets))\n",
    "    \n"
   ]
  },
  {
   "cell_type": "code",
   "execution_count": null,
   "metadata": {
    "collapsed": true
   },
   "outputs": [],
   "source": []
  },
  {
   "cell_type": "code",
   "execution_count": null,
   "metadata": {
    "collapsed": false
   },
   "outputs": [],
   "source": []
  },
  {
   "cell_type": "code",
   "execution_count": null,
   "metadata": {
    "collapsed": true
   },
   "outputs": [],
   "source": []
  }
 ],
 "metadata": {
  "kernelspec": {
   "display_name": "Python 2",
   "language": "python",
   "name": "python2"
  },
  "language_info": {
   "codemirror_mode": {
    "name": "ipython",
    "version": 2
   },
   "file_extension": ".py",
   "mimetype": "text/x-python",
   "name": "python",
   "nbconvert_exporter": "python",
   "pygments_lexer": "ipython2",
   "version": "2.7.6"
  }
 },
 "nbformat": 4,
 "nbformat_minor": 1
}
