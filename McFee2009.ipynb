{
 "cells": [
  {
   "cell_type": "markdown",
   "metadata": {},
   "source": [
    "# Experimento"
   ]
  },
  {
   "cell_type": "markdown",
   "metadata": {},
   "source": [
    "## Importação de dados de artistas"
   ]
  },
  {
   "cell_type": "markdown",
   "metadata": {},
   "source": [
    "### Dataset aset400\n",
    "Eles utilizaram a versão ** filtrada ** do dataset."
   ]
  },
  {
   "cell_type": "code",
   "execution_count": 110,
   "metadata": {
    "collapsed": true
   },
   "outputs": [],
   "source": [
    "import networkx as nx\n",
    "from random import shuffle"
   ]
  },
  {
   "cell_type": "code",
   "execution_count": 78,
   "metadata": {
    "collapsed": false
   },
   "outputs": [
    {
     "name": "stdout",
     "output_type": "stream",
     "text": [
      "Total imported: 400 artists\n"
     ]
    }
   ],
   "source": [
    "# loading the artist ids\n",
    "with open('aset400.3-canon-musicseer.ids', 'r') as f:\n",
    "    artist_names = {}\n",
    "    for i in f.read().split(\"\\n\"):\n",
    "        name, id = i.partition(\" \")[::2]\n",
    "        if(id != ''):\n",
    "            artist_names[int(id)] = name\n",
    "    print(\"Total imported: %i artists\" % len(artist_names.keys()))"
   ]
  },
  {
   "cell_type": "code",
   "execution_count": 86,
   "metadata": {
    "collapsed": false,
    "scrolled": false
   },
   "outputs": [
    {
     "name": "stdout",
     "output_type": "stream",
     "text": [
      "Imported: 16243 triplets\n"
     ]
    }
   ],
   "source": [
    "# loading filtered triplets\n",
    "keys = artist_names.keys()\n",
    "with open('filtered-survey.txt', 'r') as f:\n",
    "    artist_triplets = []\n",
    "    for i in f.read().split(\"\\n\"):\n",
    "        trip = i.split(\" \")[-3:]\n",
    "        if(trip[0] != ''):\n",
    "            trip = [int(x) for x in trip]\n",
    "            if (trip[0] in keys) & (trip[1] in keys) & (trip[2] in keys):\n",
    "                 artist_triplets.append(trip)\n",
    "                \n",
    "    print(\"Imported: %i triplets\" % len(artist_triplets))\n",
    "    \n"
   ]
  },
  {
   "cell_type": "markdown",
   "metadata": {},
   "source": [
    "## Filtering\n",
    "We filter out all measurements (i, j, k) if (i, k, j) is also present."
   ]
  },
  {
   "cell_type": "code",
   "execution_count": 87,
   "metadata": {
    "collapsed": false
   },
   "outputs": [
    {
     "name": "stdout",
     "output_type": "stream",
     "text": [
      "Nodes: 5252\n",
      "Edges: 10609\n"
     ]
    }
   ],
   "source": [
    "# Grafo sem a filtragem (i, j, k) (i, k, j)\n",
    "G = nx.DiGraph()\n",
    "\n",
    "for trip in artist_triplets:\n",
    "    node1 = (trip[0], trip[1])\n",
    "    node2 = (trip[0], trip[2])\n",
    "    G.add_node(node1)\n",
    "    G.add_node(node2)\n",
    "    G.add_edge(node1, node2)\n",
    "    \n",
    "print(\"Nodes:\", G.__len__())\n",
    "print(\"Edges:\",G.size())\n"
   ]
  },
  {
   "cell_type": "code",
   "execution_count": 80,
   "metadata": {
    "collapsed": false,
    "scrolled": false
   },
   "outputs": [
    {
     "name": "stdout",
     "output_type": "stream",
     "text": [
      "14327\n"
     ]
    }
   ],
   "source": [
    "for trip in artist_triplets:\n",
    "    tmp = [trip[0], trip[2], trip[1]]\n",
    "    if tmp in artist_triplets:\n",
    "        artist_triplets.remove(tmp)\n",
    "        artist_triplets.remove(trip)\n",
    "        \n",
    "print(len(artist_triplets))"
   ]
  },
  {
   "cell_type": "code",
   "execution_count": 88,
   "metadata": {
    "collapsed": false,
    "scrolled": false
   },
   "outputs": [
    {
     "name": "stdout",
     "output_type": "stream",
     "text": [
      "Nodes: 5252\n",
      "Edges: 10609\n"
     ]
    }
   ],
   "source": [
    "# Grafo com a filtragem (i, j, k) (i, k , j)\n",
    "G = nx.DiGraph()\n",
    "\n",
    "for trip in artist_triplets:\n",
    "    node1 = (trip[0], trip[1])\n",
    "    node2 = (trip[0], trip[2])\n",
    "    G.add_node(node1)\n",
    "    G.add_node(node2)\n",
    "    G.add_edge(node1, node2)\n",
    "    \n",
    "print(\"Nodes:\", G.__len__())\n",
    "print(\"Edges:\",G.size())"
   ]
  },
  {
   "cell_type": "markdown",
   "metadata": {},
   "source": [
    "## Máximo subgrafo acíclico"
   ]
  },
  {
   "cell_type": "code",
   "execution_count": 126,
   "metadata": {
    "collapsed": false,
    "scrolled": false
   },
   "outputs": [
    {
     "name": "stdout",
     "output_type": "stream",
     "text": [
      "Nodes: 5252\n",
      "Edges: 7632\n"
     ]
    }
   ],
   "source": [
    "def max_subDAG(G):\n",
    "    G_ = nx.DiGraph()\n",
    "\n",
    "    for node in nx.nodes(G):\n",
    "        G_.add_node(node)\n",
    "\n",
    "    edges_shuf = nx.edges(G)\n",
    "    shuffle(edges_shuf)\n",
    "\n",
    "    for edge in edges_shuf:\n",
    "        G_.add_edge(edge[0], edge[1])\n",
    "        if not nx.is_directed_acyclic_graph(G_):\n",
    "            G_.remove_edge(edge[0], edge[1])\n",
    "    return G_\n",
    "\n",
    "def n_trials(n, G):\n",
    "    graphs = []\n",
    "    G_n = nx.DiGraph()\n",
    "\n",
    "    for i in range(n):\n",
    "        graphs.append(nx.DiGraph())\n",
    "    for i in range(n):\n",
    "        graphs[i] = max_subDAG(G)\n",
    "    \n",
    "    edges = nx.edges(graphs[0])\n",
    "\n",
    "    for i in range(1, n):\n",
    "        edges_ = nx.edges(graphs[i])\n",
    "        edges = list(set(edges).intersection(edges_))\n",
    "    \n",
    "    for node in nx.nodes(G):\n",
    "        G_n.add_node(node)\n",
    "        \n",
    "    for edge in edges:\n",
    "        G_n.add_edge(edge[0], edge[1])\n",
    "    \n",
    "    return G_n\n",
    "\n",
    "G_1 = n_trials(10, G)\n",
    "\n",
    "print(\"Nodes:\", G_1.__len__())\n",
    "print(\"Edges:\",G_1.size())"
   ]
  },
  {
   "cell_type": "code",
   "execution_count": 138,
   "metadata": {
    "collapsed": false
   },
   "outputs": [],
   "source": [
    "edges = open('subgraph.txt', 'w')\n",
    "\n",
    "for edge in G_1.edges():\n",
    "    edges.write(\"%s\\n\" % str(edge))"
   ]
  },
  {
   "cell_type": "code",
   "execution_count": null,
   "metadata": {
    "collapsed": true
   },
   "outputs": [],
   "source": []
  }
 ],
 "metadata": {
  "kernelspec": {
   "display_name": "Python 3",
   "language": "python",
   "name": "python3"
  },
  "language_info": {
   "codemirror_mode": {
    "name": "ipython",
    "version": 3
   },
   "file_extension": ".py",
   "mimetype": "text/x-python",
   "name": "python",
   "nbconvert_exporter": "python",
   "pygments_lexer": "ipython3",
   "version": "3.5.2"
  }
 },
 "nbformat": 4,
 "nbformat_minor": 1
}
